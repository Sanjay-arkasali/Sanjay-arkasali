{
 "cells": [
  {
   "cell_type": "code",
   "execution_count": 1,
   "id": "97920e47-a089-4759-8871-24873a9201a5",
   "metadata": {},
   "outputs": [],
   "source": [
    "import numpy as np\n",
    "import pandas as pd\n",
    "import matplotlib.pyplot as plt\n",
    "from sklearn.preprocessing import PolynomialFeatures\n",
    "\n",
    "dataSet = pd.read_csv('Position_salaries.csv')\n",
    "\n",
    "X = dataSet.iloc[ : ,1 :-1].values\n",
    "Y = dataSet.iloc[ : ,-1].values"
   ]
  },
  {
   "cell_type": "code",
   "execution_count": 2,
   "id": "a7cbe409-ce69-4ad7-b0a1-323b4e6096bc",
   "metadata": {},
   "outputs": [],
   "source": [
    "PF = PolynomialFeatures(degree = 4)"
   ]
  },
  {
   "cell_type": "code",
   "execution_count": 3,
   "id": "2db016f3-f69f-4d66-b755-c32c7f75a12b",
   "metadata": {},
   "outputs": [
    {
     "data": {
      "text/plain": [
       "LinearRegression()"
      ]
     },
     "execution_count": 3,
     "metadata": {},
     "output_type": "execute_result"
    }
   ],
   "source": [
    "X_poly = PF.fit_transform(X)\n",
    "from sklearn.linear_model import LinearRegression\n",
    "regressor = LinearRegression()\n",
    "regressor.fit(X_poly , Y)"
   ]
  },
  {
   "cell_type": "code",
   "execution_count": 4,
   "id": "dfac8312-b428-4003-a015-7fdb2a5f6bfc",
   "metadata": {},
   "outputs": [],
   "source": [
    "Y_pred = regressor.predict(X_poly)\n",
    "c_value = PF.fit_transform([[6.5]])\n",
    "c_pred = regressor.predict(c_value)"
   ]
  },
  {
   "cell_type": "code",
   "execution_count": 5,
   "id": "00981595-9f26-41f7-b216-66c9aac5c348",
   "metadata": {},
   "outputs": [
    {
     "data": {
      "text/plain": [
       "<matplotlib.collections.PathCollection at 0x7fb090bde490>"
      ]
     },
     "execution_count": 5,
     "metadata": {},
     "output_type": "execute_result"
    },
    {
     "data": {
      "image/png": "[encoded data removed]",
      "text/plain": [
       "<Figure size 432x288 with 1 Axes>"
      ]
     },
     "metadata": {
      "needs_background": "light"
     },
     "output_type": "display_data"
    }
   ],
   "source": [
    "plt.scatter(X,Y,color='red')\n",
    "plt.plot(X, Y_pred , color ='green')\n",
    "plt.scatter(6.5,c_pred, color='blue')"
   ]
  },
  {
   "cell_type": "code",
   "execution_count": 6,
   "id": "8ee31a88-a348-46c3-b2dd-a5834417a2f9",
   "metadata": {},
   "outputs": [
    {
     "data": {
      "text/plain": [
       "array([158862.4526516])"
      ]
     },
     "execution_count": 6,
     "metadata": {},
     "output_type": "execute_result"
    }
   ],
   "source": [
    "c_pred"
   ]
  },
  {
   "cell_type": "code",
   "execution_count": 8,
   "id": "16d94664-2d11-4791-a9c3-90400189176f",
   "metadata": {},
   "outputs": [],
   "source": [
    "C_poly_pred = regressor.predict( PF.fit_transform( [ [6.5] ] ))   "
   ]
  },
  {
   "cell_type": "code",
   "execution_count": 9,
   "id": "9149027b-b2f1-4999-8bb5-2e3cd302c24d",
   "metadata": {},
   "outputs": [
    {
     "data": {
      "text/plain": [
       "array([158862.4526516])"
      ]
     },
     "execution_count": 9,
     "metadata": {},
     "output_type": "execute_result"
    }
   ],
   "source": [
    "C_poly_pred"
   ]
  },
  {
   "cell_type": "code",
   "execution_count": null,
   "id": "1b4da547-b1f7-4481-874a-6e863b903c03",
   "metadata": {},
   "outputs": [],
   "source": []
  }
 ],
 "metadata": {
  "kernelspec": {
   "display_name": "Python 3 (ipykernel)",
   "language": "python",
   "name": "python3"
  },
  "language_info": {
   "codemirror_mode": {
    "name": "ipython",
    "version": 3
   },
   "file_extension": ".py",
   "mimetype": "text/x-python",
   "name": "python",
   "nbconvert_exporter": "python",
   "pygments_lexer": "ipython3",
   "version": "3.9.7"
  }
 },
 "nbformat": 4,
 "nbformat_minor": 5
}
