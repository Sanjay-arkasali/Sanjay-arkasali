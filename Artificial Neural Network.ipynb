{
 "cells": [
  {
   "cell_type": "markdown",
   "id": "e8c2a110-b4c8-4de4-b0fd-610faab5d6ab",
   "metadata": {},
   "source": [
    "## Importing Libraries"
   ]
  },
  {
   "cell_type": "code",
   "execution_count": 1,
   "id": "08a4ed96-6af7-4de7-ae95-b42c6c2fd2a9",
   "metadata": {},
   "outputs": [],
   "source": [
    "import pandas as pd\n",
    "import numpy as np\n",
    "import tensorflow as tf"
   ]
  },
  {
   "cell_type": "markdown",
   "id": "b1412554-fe71-4c40-ae64-fb3257fd8f99",
   "metadata": {},
   "source": [
    "## Importing Data and classifying data"
   ]
  },
  {
   "cell_type": "code",
   "execution_count": 2,
   "id": "cb1b0a50-42bd-4380-8f35-f55abf9a6f89",
   "metadata": {},
   "outputs": [],
   "source": [
    "dataset = pd.read_csv('Churn_Modelling.csv')\n",
    "X = dataset.iloc[: , 3 : -1].values\n",
    "Y = dataset.iloc[: , -1].values"
   ]
  },
  {
   "cell_type": "markdown",
   "id": "b47fa781-076f-4bf8-9aaf-eeb9e7c46fd8",
   "metadata": {},
   "source": [
    "## Label Encoding Gender Column"
   ]
  },
  {
   "cell_type": "code",
   "execution_count": 3,
   "id": "4952870c-cdee-450a-a7f1-457e4b681faf",
   "metadata": {},
   "outputs": [],
   "source": [
    "from sklearn.preprocessing import LabelEncoder\n",
    "le = LabelEncoder()\n",
    "X[: , 2] = le.fit_transform(X[: , 2])"
   ]
  },
  {
   "cell_type": "markdown",
   "id": "30843f8e-4ad6-4ce8-9172-d40e1a9be641",
   "metadata": {},
   "source": [
    "## One Hot Encoding Geography Column"
   ]
  },
  {
   "cell_type": "code",
   "execution_count": 4,
   "id": "a2be5298-a59a-45ee-9867-321e32f8f290",
   "metadata": {},
   "outputs": [],
   "source": [
    "from sklearn.compose import ColumnTransformer\n",
    "from sklearn.preprocessing import OneHotEncoder\n",
    "ct = ColumnTransformer(transformers=[('encoder' , OneHotEncoder(), [1])] , remainder = 'passthrough')\n",
    "X = np.array(ct.fit_transform(X))"
   ]
  },
  {
   "cell_type": "markdown",
   "id": "2446dbbc-dc67-4b0e-88e9-5ad8583ed7b5",
   "metadata": {},
   "source": [
    "## Splitting the dataset"
   ]
  },
  {
   "cell_type": "code",
   "execution_count": 5,
   "id": "ad6ede7f-5022-4839-8a94-6425fdba47f3",
   "metadata": {},
   "outputs": [],
   "source": [
    "from sklearn.model_selection import train_test_split\n",
    "X_train , X_test , Y_train , Y_test = train_test_split(X , Y , test_size = 0.2 , random_state = 0)"
   ]
  },
  {
   "cell_type": "markdown",
   "id": "aacb14f5-1a46-4c06-b3f4-8af5216f0a88",
   "metadata": {},
   "source": [
    "## Feature Scaling All Columns in deep learning is a must"
   ]
  },
  {
   "cell_type": "code",
   "execution_count": 6,
   "id": "aa8c3eac-6801-46aa-88c2-755ad79aef02",
   "metadata": {},
   "outputs": [],
   "source": [
    "from sklearn.preprocessing import StandardScaler \n",
    "sc = StandardScaler()\n",
    "X_train = sc.fit_transform(X_train)\n",
    "X_test  = sc.transform(X_test)"
   ]
  },
  {
   "cell_type": "code",
   "execution_count": 7,
   "id": "b9941486-5e9c-4405-893b-d46f33415110",
   "metadata": {},
   "outputs": [],
   "source": [
    "ann = tf.keras.models.Sequential()"
   ]
  },
  {
   "cell_type": "code",
   "execution_count": 8,
   "id": "193e88b4-66c4-4c13-bc1c-0ba38a705f27",
   "metadata": {},
   "outputs": [
    {
     "data": {
      "text/plain": [
       "'2.8.0'"
      ]
     },
     "execution_count": 8,
     "metadata": {},
     "output_type": "execute_result"
    }
   ],
   "source": [
    "tf.__version__"
   ]
  },
  {
   "cell_type": "code",
   "execution_count": 9,
   "id": "013d6842-019d-4de4-bfdf-b2ebe3f3491f",
   "metadata": {},
   "outputs": [],
   "source": [
    "ann.add(tf.keras.layers.Dense(units = 6 , activation = 'relu'))"
   ]
  },
  {
   "cell_type": "code",
   "execution_count": 10,
   "id": "7e5921c0-603c-4c60-a3e4-44f2184a767a",
   "metadata": {},
   "outputs": [],
   "source": [
    "ann.add(tf.keras.layers.Dense(units = 1 , activation = 'sigmoid'))"
   ]
  },
  {
   "cell_type": "code",
   "execution_count": 11,
   "id": "48df1c78-2af8-4d96-bd3a-cf65ec5f3285",
   "metadata": {},
   "outputs": [],
   "source": [
    "ann.compile(optimizer = 'adam', loss = 'binary_crossentropy', metrics = ['accuracy'])"
   ]
  },
  {
   "cell_type": "code",
   "execution_count": null,
   "id": "4ddc9175-e8e5-4a8b-ba6a-601fea0142ea",
   "metadata": {},
   "outputs": [],
   "source": [
    "ann.fit(X_train , Y_train , batch_size = 32 , epochs = 200)"
   ]
  },
  {
   "cell_type": "code",
   "execution_count": 15,
   "id": "efb68750-4df2-480c-a74e-01b0c224e280",
   "metadata": {},
   "outputs": [
    {
     "data": {
      "text/plain": [
       "array([[0, 0],\n",
       "       [1, 0],\n",
       "       [0, 0],\n",
       "       ...,\n",
       "       [0, 0],\n",
       "       [0, 0],\n",
       "       [0, 0]], dtype=int64)"
      ]
     },
     "execution_count": 15,
     "metadata": {},
     "output_type": "execute_result"
    }
   ],
   "source": [
    "y_pred = ann.predict(X_test_t)\n",
    "y_pred = (y_pred > 0.5)\n",
    "np.concatenate((Y_test.reshape(len(Y_test),1) , y_pred.reshape(len(y_pred),1)),1)"
   ]
  },
  {
   "cell_type": "code",
   "execution_count": 14,
   "id": "e9c84aca-709b-45ad-a059-26b3b2d0ceb5",
   "metadata": {},
   "outputs": [],
   "source": [
    "X_test_t = np.asarray(X_test).astype(np.int64)"
   ]
  },
  {
   "cell_type": "code",
   "execution_count": null,
   "id": "a9d509ff-7ed2-430f-9aa7-2f31b44cc008",
   "metadata": {},
   "outputs": [],
   "source": [
    "y_pred = np.asarray(y_pred)"
   ]
  },
  {
   "cell_type": "code",
   "execution_count": 16,
   "id": "055f3200-e76b-483d-8641-2f1f51ada77d",
   "metadata": {},
   "outputs": [
    {
     "data": {
      "text/plain": [
       "0.824"
      ]
     },
     "execution_count": 16,
     "metadata": {},
     "output_type": "execute_result"
    }
   ],
   "source": [
    "from sklearn.metrics  import accuracy_score\n",
    "accuracy_score(Y_test , y_pred)"
   ]
  },
  {
   "cell_type": "code",
   "execution_count": 17,
   "id": "9a71e175-d64a-4e6e-90e7-b631187e0bd5",
   "metadata": {},
   "outputs": [
    {
     "data": {
      "text/plain": [
       "array([[False]])"
      ]
     },
     "execution_count": 17,
     "metadata": {},
     "output_type": "execute_result"
    }
   ],
   "source": [
    "ann.predict(sc.transform([[ 1, 0, 0 , 600 , 1 , 40 , 3 , 60000 , 2 , 1 , 1 , 50000]])) > 0.5"
   ]
  },
  {
   "cell_type": "code",
   "execution_count": null,
   "id": "167e7a30-95f0-4476-b6c9-f008b7401389",
   "metadata": {},
   "outputs": [],
   "source": []
  }
 ],
 "metadata": {
  "kernelspec": {
   "display_name": "Python 3 (ipykernel)",
   "language": "python",
   "name": "python3"
  },
  "language_info": {
   "codemirror_mode": {
    "name": "ipython",
    "version": 3
   },
   "file_extension": ".py",
   "mimetype": "text/x-python",
   "name": "python",
   "nbconvert_exporter": "python",
   "pygments_lexer": "ipython3",
   "version": "3.9.7"
  }
 },
 "nbformat": 4,
 "nbformat_minor": 5
}
