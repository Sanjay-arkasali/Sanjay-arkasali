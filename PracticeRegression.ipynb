{
 "cells": [
  {
   "cell_type": "code",
   "execution_count": 1,
   "id": "05cb22d7-ebf1-4ad0-afab-17aa320fbc80",
   "metadata": {},
   "outputs": [],
   "source": [
    "import pandas as pd\n",
    "import matplotlib.pyplot as plt"
   ]
  },
  {
   "cell_type": "code",
   "execution_count": 2,
   "id": "3a092666-b766-4d80-af2a-dd801c08e08e",
   "metadata": {},
   "outputs": [],
   "source": [
    "dataSet = pd.read_csv('Salary_Data.csv')"
   ]
  },
  {
   "cell_type": "code",
   "execution_count": 3,
   "id": "685e7806-6a02-4f8f-8d7b-c7d32f9777b2",
   "metadata": {},
   "outputs": [],
   "source": [
    "X = dataSet.iloc[: , : -1].values\n",
    "Y = dataSet.iloc[: , -1 ].values"
   ]
  },
  {
   "cell_type": "code",
   "execution_count": 4,
   "id": "252f116a-4e06-48aa-b5ae-15205fe20902",
   "metadata": {},
   "outputs": [],
   "source": [
    "from sklearn.model_selection import train_test_split"
   ]
  },
  {
   "cell_type": "code",
   "execution_count": 5,
   "id": "316a60b6-5b0e-4f72-94cd-a9f8f9dc0bc0",
   "metadata": {},
   "outputs": [],
   "source": [
    "X_train , X_test , Y_train , Y_test = train_test_split(X , Y , test_size=0.2 , random_state = 1)"
   ]
  },
  {
   "cell_type": "code",
   "execution_count": 6,
   "id": "8bb9ad08-7f87-4d90-8939-b9766deff357",
   "metadata": {},
   "outputs": [],
   "source": [
    "from sklearn.linear_model import LinearRegression "
   ]
  },
  {
   "cell_type": "code",
   "execution_count": 12,
   "id": "00b0bbfc-a1a5-4611-a1f5-473bdf749e11",
   "metadata": {},
   "outputs": [],
   "source": [
    "regressor = LinearRegression()\n",
    "regressor.fit(X_train,Y_train)\n",
    "Y_pred = regressor.predict(X_train) \n",
    "Y_tpred = regressor.predict(X_test)"
   ]
  },
  {
   "cell_type": "code",
   "execution_count": 13,
   "id": "bf08591d-350a-4fa2-949d-42aaa286d286",
   "metadata": {},
   "outputs": [
    {
     "data": {
      "text/plain": [
       "<matplotlib.collections.PathCollection at 0x7fc0e0c1ec40>"
      ]
     },
     "execution_count": 13,
     "metadata": {},
     "output_type": "execute_result"
    },
    {
     "data": {
      "image/png": "[encoded data removed]",
      "text/plain": [
       "<Figure size 432x288 with 1 Axes>"
      ]
     },
     "metadata": {
      "needs_background": "light"
     },
     "output_type": "display_data"
    }
   ],
   "source": [
    "plt.scatter(X_train , Y_train , color ='red')\n",
    "plt.plot(X_train ,Y_pred , color = 'blue' )\n",
    "plt.scatter(X_test , Y_tpred , color = 'green')"
   ]
  },
  {
   "cell_type": "code",
   "execution_count": null,
   "id": "a157548d-f2a0-47c8-99a0-5dbdadb0b547",
   "metadata": {},
   "outputs": [],
   "source": []
  }
 ],
 "metadata": {
  "kernelspec": {
   "display_name": "Python 3 (ipykernel)",
   "language": "python",
   "name": "python3"
  },
  "language_info": {
   "codemirror_mode": {
    "name": "ipython",
    "version": 3
   },
   "file_extension": ".py",
   "mimetype": "text/x-python",
   "name": "python",
   "nbconvert_exporter": "python",
   "pygments_lexer": "ipython3",
   "version": "3.9.7"
  }
 },
 "nbformat": 4,
 "nbformat_minor": 5
}
